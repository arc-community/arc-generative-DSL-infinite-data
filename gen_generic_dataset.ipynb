{
 "cells": [
  {
   "cell_type": "code",
   "execution_count": 9,
   "metadata": {},
   "outputs": [],
   "source": [
    "\n",
    "from genDSL_helpers import visualize_board\n",
    "from dungeon_generation_script import generate_09c534e7\n",
    "from more_generation_scripts import generate_27a28665, generate_007bbfb7\n"
   ]
  },
  {
   "cell_type": "code",
   "execution_count": 10,
   "metadata": {
    "scrolled": true
   },
   "outputs": [],
   "source": [
    "\n",
    "\n",
    "import numpy as np\n",
    "import matplotlib.pyplot as plt\n",
    "import os\n",
    "import json\n",
    "import random\n",
    "\n",
    "\n",
    "\n",
    "################# PARAMETERS TO CHANGE ####################\n",
    "dataset_folder = r'C:\\Users\\Acer\\.arc\\cache\\dataset\\testing_27a28665'\n",
    "verbose = False\n",
    "#generator_function = generate_09c534e7 # dungeon\n",
    "#generator_function = generate_27a28665 # from more_generation_scripts.py\n",
    "generator_function = generate_007bbfb7 # from more_generation_scripts.py - fractal/recursive\n",
    "\n",
    "#total number of puzzles (meta samples)\n",
    "dataset_size = 2\n",
    "\n",
    "#number of training boards and testing boards\n",
    "meta_trn_size_min = 2\n",
    "meta_trn_size_max = 7\n",
    "meta_tst_size     = 1\n",
    "\n",
    "\n",
    "items_to_plot = 5"
   ]
  },
  {
   "cell_type": "code",
   "execution_count": 11,
   "metadata": {
    "scrolled": false
   },
   "outputs": [
    {
     "data": {
      "image/png": "[encoded data removed]",
      "text/plain": [
       "<Figure size 640x480 with 2 Axes>"
      ]
     },
     "metadata": {},
     "output_type": "display_data"
    },
    {
     "data": {
      "image/png": "[encoded data removed]",
      "text/plain": [
       "<Figure size 640x480 with 2 Axes>"
      ]
     },
     "metadata": {},
     "output_type": "display_data"
    },
    {
     "ename": "TypeError",
     "evalue": "cannot unpack non-iterable NoneType object",
     "output_type": "error",
     "traceback": [
      "\u001b[1;31m---------------------------------------------------------------------------\u001b[0m",
      "\u001b[1;31mTypeError\u001b[0m                                 Traceback (most recent call last)",
      "\u001b[1;32mc:\\Users\\Acer\\Desktop\\ARC Challenge\\Experiments\\tools from discord group\\arc-generative-DSL-infinite-data-main\\arc-generative-DSL-infinite-data-main\\gen_generic_dataset.ipynb Cell 3\u001b[0m in \u001b[0;36m<cell line: 22>\u001b[1;34m()\u001b[0m\n\u001b[0;32m     <a href='vscode-notebook-cell:/c%3A/Users/Acer/Desktop/ARC%20Challenge/Experiments/tools%20from%20discord%20group/arc-generative-DSL-infinite-data-main/arc-generative-DSL-infinite-data-main/gen_generic_dataset.ipynb#W2sZmlsZQ%3D%3D?line=23'>24</a>\u001b[0m     \u001b[39mprint\u001b[39m(\u001b[39m\"\u001b[39m\u001b[39mPUZZLE #\u001b[39m\u001b[39m\"\u001b[39m\u001b[39m+\u001b[39m\u001b[39mstr\u001b[39m(n\u001b[39m+\u001b[39m\u001b[39m1\u001b[39m))\n\u001b[0;32m     <a href='vscode-notebook-cell:/c%3A/Users/Acer/Desktop/ARC%20Challenge/Experiments/tools%20from%20discord%20group/arc-generative-DSL-infinite-data-main/arc-generative-DSL-infinite-data-main/gen_generic_dataset.ipynb#W2sZmlsZQ%3D%3D?line=24'>25</a>\u001b[0m \u001b[39mif\u001b[39;00m plot_count \u001b[39m<\u001b[39m items_to_plot:\n\u001b[1;32m---> <a href='vscode-notebook-cell:/c%3A/Users/Acer/Desktop/ARC%20Challenge/Experiments/tools%20from%20discord%20group/arc-generative-DSL-infinite-data-main/arc-generative-DSL-infinite-data-main/gen_generic_dataset.ipynb#W2sZmlsZQ%3D%3D?line=25'>26</a>\u001b[0m     train_pairs\u001b[39m=\u001b[39mgen_train_items_and_plot(np\u001b[39m.\u001b[39;49mrandom\u001b[39m.\u001b[39;49mrandint(meta_trn_size_min,meta_trn_size_max\u001b[39m+\u001b[39;49m\u001b[39m1\u001b[39;49m), \u001b[39mTrue\u001b[39;49;00m)\n\u001b[0;32m     <a href='vscode-notebook-cell:/c%3A/Users/Acer/Desktop/ARC%20Challenge/Experiments/tools%20from%20discord%20group/arc-generative-DSL-infinite-data-main/arc-generative-DSL-infinite-data-main/gen_generic_dataset.ipynb#W2sZmlsZQ%3D%3D?line=26'>27</a>\u001b[0m     test_pairs\u001b[39m=\u001b[39mgen_train_items_and_plot(meta_tst_size, \u001b[39mTrue\u001b[39;00m)\n\u001b[0;32m     <a href='vscode-notebook-cell:/c%3A/Users/Acer/Desktop/ARC%20Challenge/Experiments/tools%20from%20discord%20group/arc-generative-DSL-infinite-data-main/arc-generative-DSL-infinite-data-main/gen_generic_dataset.ipynb#W2sZmlsZQ%3D%3D?line=27'>28</a>\u001b[0m     plot_count \u001b[39m+\u001b[39m\u001b[39m=\u001b[39m \u001b[39m1\u001b[39m\n",
      "\u001b[1;32mc:\\Users\\Acer\\Desktop\\ARC Challenge\\Experiments\\tools from discord group\\arc-generative-DSL-infinite-data-main\\arc-generative-DSL-infinite-data-main\\gen_generic_dataset.ipynb Cell 3\u001b[0m in \u001b[0;36mgen_train_items_and_plot\u001b[1;34m(meta_trn_size, plot)\u001b[0m\n\u001b[0;32m     <a href='vscode-notebook-cell:/c%3A/Users/Acer/Desktop/ARC%20Challenge/Experiments/tools%20from%20discord%20group/arc-generative-DSL-infinite-data-main/arc-generative-DSL-infinite-data-main/gen_generic_dataset.ipynb#W2sZmlsZQ%3D%3D?line=10'>11</a>\u001b[0m inp_out_pairs \u001b[39m=\u001b[39m []\n\u001b[0;32m     <a href='vscode-notebook-cell:/c%3A/Users/Acer/Desktop/ARC%20Challenge/Experiments/tools%20from%20discord%20group/arc-generative-DSL-infinite-data-main/arc-generative-DSL-infinite-data-main/gen_generic_dataset.ipynb#W2sZmlsZQ%3D%3D?line=11'>12</a>\u001b[0m \u001b[39mfor\u001b[39;00m i \u001b[39min\u001b[39;00m \u001b[39mrange\u001b[39m(meta_trn_size):\n\u001b[1;32m---> <a href='vscode-notebook-cell:/c%3A/Users/Acer/Desktop/ARC%20Challenge/Experiments/tools%20from%20discord%20group/arc-generative-DSL-infinite-data-main/arc-generative-DSL-infinite-data-main/gen_generic_dataset.ipynb#W2sZmlsZQ%3D%3D?line=12'>13</a>\u001b[0m     inp_out_pairs\u001b[39m.\u001b[39mappend(gen_item_and_plot(plot))\n\u001b[0;32m     <a href='vscode-notebook-cell:/c%3A/Users/Acer/Desktop/ARC%20Challenge/Experiments/tools%20from%20discord%20group/arc-generative-DSL-infinite-data-main/arc-generative-DSL-infinite-data-main/gen_generic_dataset.ipynb#W2sZmlsZQ%3D%3D?line=13'>14</a>\u001b[0m \u001b[39mreturn\u001b[39;00m inp_out_pairs\n",
      "\u001b[1;32mc:\\Users\\Acer\\Desktop\\ARC Challenge\\Experiments\\tools from discord group\\arc-generative-DSL-infinite-data-main\\arc-generative-DSL-infinite-data-main\\gen_generic_dataset.ipynb Cell 3\u001b[0m in \u001b[0;36mgen_item_and_plot\u001b[1;34m(plot)\u001b[0m\n\u001b[0;32m      <a href='vscode-notebook-cell:/c%3A/Users/Acer/Desktop/ARC%20Challenge/Experiments/tools%20from%20discord%20group/arc-generative-DSL-infinite-data-main/arc-generative-DSL-infinite-data-main/gen_generic_dataset.ipynb#W2sZmlsZQ%3D%3D?line=2'>3</a>\u001b[0m \u001b[39mdef\u001b[39;00m \u001b[39mgen_item_and_plot\u001b[39m(plot \u001b[39m=\u001b[39m \u001b[39mTrue\u001b[39;00m):\n\u001b[1;32m----> <a href='vscode-notebook-cell:/c%3A/Users/Acer/Desktop/ARC%20Challenge/Experiments/tools%20from%20discord%20group/arc-generative-DSL-infinite-data-main/arc-generative-DSL-infinite-data-main/gen_generic_dataset.ipynb#W2sZmlsZQ%3D%3D?line=3'>4</a>\u001b[0m     inp_board,out_board \u001b[39m=\u001b[39m generator_function()\n\u001b[0;32m      <a href='vscode-notebook-cell:/c%3A/Users/Acer/Desktop/ARC%20Challenge/Experiments/tools%20from%20discord%20group/arc-generative-DSL-infinite-data-main/arc-generative-DSL-infinite-data-main/gen_generic_dataset.ipynb#W2sZmlsZQ%3D%3D?line=4'>5</a>\u001b[0m     \u001b[39mif\u001b[39;00m plot:\n\u001b[0;32m      <a href='vscode-notebook-cell:/c%3A/Users/Acer/Desktop/ARC%20Challenge/Experiments/tools%20from%20discord%20group/arc-generative-DSL-infinite-data-main/arc-generative-DSL-infinite-data-main/gen_generic_dataset.ipynb#W2sZmlsZQ%3D%3D?line=5'>6</a>\u001b[0m         visualize_board(inp_board)\n",
      "\u001b[1;31mTypeError\u001b[0m: cannot unpack non-iterable NoneType object"
     ]
    }
   ],
   "source": [
    "#adapted from Parapraxis dataset generation code\n",
    "\n",
    "def gen_item_and_plot(plot = True):\n",
    "    inp_board,out_board = generator_function()\n",
    "    if plot:\n",
    "        visualize_board(inp_board)\n",
    "        visualize_board(out_board)\n",
    "    return inp_board,out_board\n",
    "\n",
    "def gen_train_items_and_plot(meta_trn_size = 1, plot = True):\n",
    "    inp_out_pairs = []\n",
    "    for i in range(meta_trn_size):\n",
    "        inp_out_pairs.append(gen_item_and_plot(plot))\n",
    "    return inp_out_pairs\n",
    "\n",
    "\n",
    "\n",
    "\n",
    "\n",
    "plot_count = 0\n",
    "\n",
    "for n in range(dataset_size):\n",
    "    if verbose:\n",
    "        print(\"PUZZLE #\"+str(n+1))\n",
    "    if plot_count < items_to_plot:\n",
    "        train_pairs=gen_train_items_and_plot(np.random.randint(meta_trn_size_min,meta_trn_size_max+1), True)\n",
    "        test_pairs=gen_train_items_and_plot(meta_tst_size, True)\n",
    "        plot_count += 1\n",
    "    else:\n",
    "        train_pairs=gen_train_items_and_plot(np.random.randint(meta_trn_size_min,meta_trn_size_max+1), False)\n",
    "        test_pairs=gen_train_items_and_plot(meta_tst_size, False)\n",
    "    json_obj = {}\n",
    "    json_obj['train'] = []\n",
    "    json_obj['test'] = []\n",
    "    # train\n",
    "    for i in range(len(train_pairs)):\n",
    "        a = {\n",
    "            'input': train_pairs[i][0].tolist(),\n",
    "            'output': train_pairs[i][1].tolist()\n",
    "        }\n",
    "        json_obj['train'].append(a)\n",
    "\n",
    "    a = {'input': test_pairs[0][0].tolist(),\n",
    "        'output': test_pairs[0][1].tolist()    }\n",
    "    json_obj['test'].append(a)\n",
    "\n",
    "\n",
    "    # verify folder exists ./dungeon_dataset/\n",
    "    if not os.path.exists(dataset_folder):\n",
    "        os.makedirs(dataset_folder)\n",
    "    #make a new filename that is 8 characters long and represents a random hex number\n",
    "    # characters betwee 0-9 and a-f\n",
    "    string = '0123456789abcdef'\n",
    "    filename = ''.join(random.choice(string) for i in range(8)) + '.json'\n",
    "    # write the json object to a file\n",
    "    with open(os.path.join(dataset_folder, filename), 'w') as outfile:\n",
    "        json.dump(json_obj, outfile)\n",
    "    \n",
    "    if verbose:\n",
    "        print()\n",
    "        print()\n",
    "\n",
    "print('dataset generated')"
   ]
  },
  {
   "cell_type": "code",
   "execution_count": null,
   "metadata": {},
   "outputs": [],
   "source": []
  },
  {
   "cell_type": "code",
   "execution_count": null,
   "metadata": {},
   "outputs": [],
   "source": []
  }
 ],
 "metadata": {
  "kernelspec": {
   "display_name": "Python 3.9.13 ('base')",
   "language": "python",
   "name": "python3"
  },
  "language_info": {
   "codemirror_mode": {
    "name": "ipython",
    "version": 3
   },
   "file_extension": ".py",
   "mimetype": "text/x-python",
   "name": "python",
   "nbconvert_exporter": "python",
   "pygments_lexer": "ipython3",
   "version": "3.9.13"
  },
  "vscode": {
   "interpreter": {
    "hash": "ad2bdc8ecc057115af97d19610ffacc2b4e99fae6737bb82f5d7fb13d2f2c186"
   }
  }
 },
 "nbformat": 4,
 "nbformat_minor": 2
}
