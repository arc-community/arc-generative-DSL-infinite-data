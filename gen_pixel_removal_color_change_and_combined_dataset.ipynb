{
 "cells": [
  {
   "cell_type": "code",
   "execution_count": 16,
   "metadata": {},
   "outputs": [],
   "source": [
    "# functions to create the boards and dataset\n",
    "import random\n",
    "import json\n",
    "import numpy as np\n",
    "import matplotlib.pyplot as plt\n",
    "# import libraries for plotting\n",
    "import matplotlib.pyplot as plt\n",
    "import numpy as np\n",
    "import pandas as pd\n",
    "import os\n",
    "# import the library for ListedColormap\n",
    "from matplotlib.colors import ListedColormap, Normalize\n",
    "\n",
    "\n",
    "################# PARAMETERS TO CHANGE ####################\n",
    "dataset_folder = './10000_cc_pr_fixed_8x8_5input' # will make 3 subfolders in this folder: pixel_removal, color_change, combined\n",
    "\n",
    "#total number of puzzles (meta samples)\n",
    "dataset_size = 10000 # per dataset\n",
    "plot_items = 3 # number of puzzles to plot\n",
    "min_num_colors_per_task = 3 # minimum number of colors per task (e.g., on combined there would be 3 colors for px removal and 3 colors for color change and 3 random colors)\n",
    "\n",
    "#number of training boards and testing boards 0 for random\n",
    "meta_trn_size = 5\n",
    "meta_tst_size = 1 # always 1\n",
    "\n",
    "# grid size (width and height); if -1 then random\n",
    "# if using a fixed grid size, 7x7 is a recommended minimum, because it becomes very slow\n",
    "all_items_same_grid_size = True  # only applies if grid_size is -1\n",
    "grid_size_width = 8\n",
    "grid_size_height = 8\n",
    "min_grid_size = 8 # applies if grid_size is -1"
   ]
  },
  {
   "cell_type": "code",
   "execution_count": 17,
   "metadata": {},
   "outputs": [],
   "source": [
    "# build a color map of these colors \"#000000\", \"#0074D9\", \"#FF4136\", \"#2ECC40\",\"#FFDC00\",\"#AAAAAA\",\"#F012BE\",\"#FF851B\",\"#7FDBFF\",\"#870C25\",\n",
    "cmap_list = ['#000000', '#0074D9', '#FF4136', '#2ECC40', '#FFDC00', '#AAAAAA', '#F012BE', '#FF851B', '#7FDBFF', '#870C25']\n",
    "# convert the hex strings to values compatible with matplotlib\n",
    "cmap_values = ListedColormap(cmap_list)\n",
    "norm = Normalize(vmin=0, vmax=9)\n",
    "\n",
    "# create a function to add a point to a grid\n",
    "def add_point(grid, color, x, y):\n",
    "        grid[x][y] = color\n",
    "        return grid\n",
    "\n",
    "def is_corner(grid, x, y):\n",
    "        '''\n",
    "        Returns true if the point is a corner of the grid\n",
    "        '''\n",
    "        if (x == 0 and y == 0) or (x == 0 and y == len(grid[0])-1) or (x == len(grid)-1 and y == 0) or (x == len(grid)-1 and y == len(grid[0])-1):\n",
    "                return True\n",
    "        return False\n",
    "\n",
    "def is_corner_adjacent(grid, x, y):\n",
    "        '''\n",
    "        Returns true if the point is adjacent to a corner of the grid (either up or down or left or right)\n",
    "        '''\n",
    "        if (x == 0 and y == 1) or (x == 1 and y == 0) or (x == 0 and y == len(grid[0])-2) or (x == 1 and y == len(grid[0])-1) or (x == len(grid)-2 and y == 0) or (x == len(grid)-1 and y == 1) or (x == len(grid)-2 and y == len(grid[0])-1) or (x == len(grid)-1 and y == len(grid[0])-2):\n",
    "                return True\n",
    "        return False\n",
    "\n",
    "# create a function to add a point to a random location in a grid that is not already occupied\n",
    "def add_point_random(grid, color_to_add, bg_color, exclude_corners=False, exclude_adjacent_corners=False):\n",
    "        if color_to_add!=bg_color:\n",
    "                # get the number of cells in the grid\n",
    "                grid_size = grid.size\n",
    "                unoccupied_cells = color_count(grid, bg_color)\n",
    "                added_point = False\n",
    "                error=False\n",
    "                while (not added_point and unoccupied_cells > 0) and not error:\n",
    "                        unoccupied_cells = color_count(grid, bg_color)\n",
    "                        if unoccupied_cells == 0:\n",
    "                                error=True\n",
    "                        if unoccupied_cells <= 4 and exclude_corners:\n",
    "                                error=True\n",
    "                        if unoccupied_cells <= 12 and exclude_adjacent_corners:\n",
    "                                error=True\n",
    "\n",
    "                        # get a random number between 0 and the number of unoccupied cells\n",
    "                        random_cell = random.randint(0, unoccupied_cells)\n",
    "                        # create a counter to count the number of unoccupied cells\n",
    "                        unoccupied_cell_count = 0\n",
    "                        # loop through the grid\n",
    "\n",
    "                        for x in range(grid.shape[0]):\n",
    "                                for y in range(grid.shape[1]):\n",
    "                                        \n",
    "                                        # if the cell is not occupied\n",
    "                                        if grid[x][y] == bg_color:\n",
    "                                                # if the cell is not a corner\n",
    "                                                if not added_point and (not exclude_corners or (is_corner(grid, x, y) and not exclude_corners) or not is_corner(grid, x, y)):\n",
    "                                                        # check for adjacent corners\n",
    "                                                        if not added_point and (not exclude_adjacent_corners or (is_corner_adjacent(grid, x, y) and not exclude_adjacent_corners) or not is_corner_adjacent(grid, x, y)):\n",
    "                                                                \n",
    "                                                                # if the unoccupied cell counter is equal to the random cell\n",
    "                                                                if unoccupied_cell_count >= random_cell:\n",
    "                                                                        # add the point to the grid\n",
    "                                                                        grid = add_point(grid, color_to_add, x, y)\n",
    "                                                                        added_point = True\n",
    "                                                                        break\n",
    "                                                # increment the unoccupied cell counter\n",
    "                                                unoccupied_cell_count += 1\n",
    "                                if added_point:\n",
    "                                        break\n",
    "        return grid, not error\n",
    "\n",
    "def color_count(grid, color_to_count):\n",
    "        color_count = 0\n",
    "        for row in grid:\n",
    "                for cell in row:\n",
    "                        if cell == color_to_count:\n",
    "                                color_count += 1\n",
    "        return color_count\n",
    "\n",
    "def color_count_excluding(grid, color_list_to_exclude):\n",
    "        color_count = 0\n",
    "        for row in grid:\n",
    "                for cell in row:\n",
    "                        if cell not in color_list_to_exclude:\n",
    "                                color_count += 1\n",
    "        return color_count\n",
    "\n",
    "\n",
    "# create a function to create a board that has x number of random color points on the specified background\n",
    "def create_board(color_bg, color_fg, x, y, points_max, color_fg2=0, rand_points=0, color_fg3=0, exclude_colors_in_corners=False, exclude_colors_in_adjacent_corners=False):\n",
    "        #print(f\"create board {color_bg} {color_fg} {x} {y} {points_max} {color_fg2} {rand_points} {color_fg3} {exclude_colors_in_corners} {exclude_colors_in_adjacent_corners}\")\n",
    "        # create a grid of the specified size\n",
    "        grid = np.full((x,y), color_bg, dtype=np.int8)\n",
    "        if points_max <= 2:\n",
    "                points_max == 3\n",
    "        # set a random number of points to the specified color\n",
    "        num_points = max(np.random.randint(1,points_max), 2)\n",
    "        point_count = 0\n",
    "        point_count2 = 0\n",
    "        point_count3 = 0\n",
    "        rand_point_count = 0\n",
    "        should_continue = True\n",
    "        while point_count < num_points or (color_fg2 > 0 and point_count2 < num_points) or (rand_points > 0 and rand_point_count < rand_points) or (color_fg3 > 0 and point_count3 < num_points):\n",
    "                grid, should_continue = add_point_random(grid, color_fg, color_bg, exclude_corners=exclude_colors_in_corners, exclude_adjacent_corners=exclude_colors_in_adjacent_corners)\n",
    "                if color_fg2 != color_bg and should_continue:\n",
    "                        grid, should_continue = add_point_random(grid, color_fg2, color_bg, exclude_corners=exclude_colors_in_corners, exclude_adjacent_corners=exclude_colors_in_adjacent_corners)\n",
    "                if color_fg3 != color_bg and should_continue:                \n",
    "                        grid, should_continue = add_point_random(grid, color_fg3, color_bg, exclude_corners=exclude_colors_in_corners, exclude_adjacent_corners=exclude_colors_in_adjacent_corners)\n",
    "                if rand_point_count <= rand_points and should_continue:\n",
    "                        rand_color = np.random.randint(1, 9)\n",
    "                        while rand_color in [color_bg, color_fg, color_fg2, color_fg3]:\n",
    "                                rand_color = np.random.randint(1, 9)\n",
    "                        grid, should_continue = add_point_random(grid, rand_color, color_bg, exclude_corners=exclude_colors_in_corners, exclude_adjacent_corners=exclude_colors_in_adjacent_corners)\n",
    "                if should_continue:\n",
    "                        point_count = color_count(grid, color_fg)\n",
    "                        point_count2 = color_count(grid, color_fg2)\n",
    "                        point_count3 = color_count(grid, color_fg3)\n",
    "                        rand_point_count = color_count_excluding(grid, [color_bg, color_fg, color_fg2, color_fg3])\n",
    "                else:\n",
    "                        break\n",
    "        return grid, not should_continue\n",
    "\n",
    "def create_pixel_removal_riddle(num_input_output_grids, num_rows = -1, num_cols = -1, min_num_colors = 2):\n",
    "    '''\n",
    "    create a simple riddle that requires the user to remove a pixel from a grid\n",
    "    the pixel to remove will be in one of the corners of the input grid\n",
    "    '''\n",
    "    input_grids = []\n",
    "    output_grids = []\n",
    "    params = {}\n",
    "    params['input'] = []\n",
    "    params['output'] = []\n",
    "    color_bg = 0\n",
    "    color_fg = np.random.randint(1,10)\n",
    "    for i in range(num_input_output_grids):\n",
    "            # create the input grid\n",
    "            error=True\n",
    "            while error:\n",
    "                # set the parameters for the input and output grids\n",
    "                x = np.random.randint(min_grid_size,31) if num_cols == -1 else num_cols\n",
    "                y = np.random.randint(min_grid_size,31) if num_rows == -1 else num_rows\n",
    "                # pick a random number of points proportional to the size of the grid\n",
    "                points = np.random.randint(1, x*y/4)\n",
    "                current_board, error = create_board(color_bg, color_fg, x, y, max(points, min_num_colors), 0, max(points/2, min_num_colors), 0, True, True)\n",
    "                input_grids.append(current_board)\n",
    "\n",
    "            # choose one of the corners to randomly change to the foreground color\n",
    "            corner = np.random.randint(0,4)\n",
    "            if corner == 0:\n",
    "                    input_grids[-1][0][0] = color_fg\n",
    "            elif corner == 1:\n",
    "                    input_grids[-1][0][-1] = color_fg\n",
    "            elif corner == 2:\n",
    "                    input_grids[-1][-1][0] = color_fg\n",
    "            elif corner == 3:\n",
    "                    input_grids[-1][-1][-1] = color_fg\n",
    "\n",
    "            # the output grid is the same but the points with the foreground color are removed\n",
    "            output_grids.append(np.where(input_grids[-1] == color_fg, color_bg, input_grids[-1]))\n",
    "\n",
    "            # append the parameters to the params object\n",
    "            params['input'].append({'color_bg': color_bg, 'color_fg': color_fg, 'points': points, 'x': x, 'y': y})\n",
    "            params['output'].append({'color_bg': color_bg, 'color_fg': color_fg, 'points': points, 'x': x, 'y': y})\n",
    "    return input_grids, output_grids, params\n",
    "\n",
    "def create_color_change_riddle(num_input_output_grids, num_rows = -1, num_cols = -1, min_num_colors = 2):\n",
    "        '''\n",
    "        Create a simple riddle that requires changing a pixel color from intput to output\n",
    "        The color to change is indicated by a pixel in a corner.  Then the pixel adjacent to that pixel is the color to change to.\n",
    "        The output board contains all the same pixels with the color changed from input.\n",
    "        '''\n",
    "        input_grids = []\n",
    "        output_grids = []\n",
    "        params = {}\n",
    "        params['input'] = []\n",
    "        params['output'] = []\n",
    "        color_bg = 0\n",
    "        random_colors = get_n_random_colors(2)\n",
    "        color_fg = random_colors[0]\n",
    "        color_fg2 = random_colors[1]\n",
    "        for i in range(num_input_output_grids):\n",
    "                error=True\n",
    "                while error:\n",
    "                        # set the parameters for the input and output grids\n",
    "                        x = np.random.randint(min_grid_size,31) if num_cols == -1 else num_cols\n",
    "                        y = np.random.randint(min_grid_size,31) if num_rows == -1 else num_rows\n",
    "                        # pick a random number of points proportional to the size of the grid\n",
    "                        points = np.random.randint(1, x*y/4)\n",
    "                        current_board, error = create_board(color_bg, color_fg, x, y, max(points, min_num_colors), color_fg2, max(points/2, min_num_colors), 0, True, True)\n",
    "                        input_grids.append(current_board)\n",
    "\n",
    "                # choose one of the corners to randomly change to the foreground color\n",
    "                corner = np.random.randint(0,4)\n",
    "                if corner == 0:\n",
    "                        input_grids[-1][0][0] = color_fg\n",
    "                        # make the adjacent pixel the color to change to random to choose which adjacent pixel to change to\n",
    "                        change_to = np.random.randint(0,2) # 0 = right or left, 1 = down or up\n",
    "                        if change_to == 0:\n",
    "                                input_grids[-1][0][1] = color_fg2\n",
    "                        else:\n",
    "                                input_grids[-1][1][0] = color_fg2\n",
    "                elif corner == 1:\n",
    "                        input_grids[-1][0][-1] = color_fg\n",
    "                        # make the adjacent pixel the color to change to random to choose which adjacent pixel to change to\n",
    "                        change_to = np.random.randint(0,2)\n",
    "                        if change_to == 0:\n",
    "                                input_grids[-1][0][-2] = color_fg2\n",
    "                        else:\n",
    "                                input_grids[-1][1][-1] = color_fg2\n",
    "                elif corner == 2:\n",
    "                        input_grids[-1][-1][0] = color_fg\n",
    "                        # make the adjacent pixel the color to change to random to choose which adjacent pixel to change to\n",
    "                        change_to = np.random.randint(0,2)\n",
    "                        if change_to == 0:\n",
    "                                input_grids[-1][-1][1] = color_fg2\n",
    "                        else:\n",
    "                                input_grids[-1][-2][0] = color_fg2\n",
    "                elif corner == 3:\n",
    "                        input_grids[-1][-1][-1] = color_fg\n",
    "                        # make the adjacent pixel the color to change to random to choose which adjacent pixel to change to\n",
    "                        change_to = np.random.randint(0,2)\n",
    "                        if change_to == 0:\n",
    "                                input_grids[-1][-1][-2] = color_fg2\n",
    "                        else:\n",
    "                                input_grids[-1][-2][-1] = color_fg2\n",
    "\n",
    "                # the output grid is the same but the points with the fg changed to fg2\n",
    "                output_grids.append(np.where(input_grids[-1] == color_fg, color_fg2, input_grids[-1]))\n",
    "\n",
    "                # append the parameters to the params object\n",
    "                params['input'].append({'color_bg': color_bg, 'color_fg': color_fg, 'points': points, 'x': x, 'y': y})\n",
    "                params['output'].append({'color_bg': color_bg, 'color_fg': color_fg, 'points': points, 'x': x, 'y': y})\n",
    "        return input_grids, output_grids, params\n",
    "\n",
    "def get_distinct_colors(grid):\n",
    "    '''\n",
    "    Returns a list of distinct colors in the grid\n",
    "    '''\n",
    "    # Find all colors that are in the board\n",
    "    colors = set(np.unique(grid).tolist())\n",
    "    return list(colors)\n",
    "\n",
    "def get_n_random_colors(n):\n",
    "    '''\n",
    "    Returns a list of n random colors\n",
    "    '''\n",
    "    colors = []\n",
    "    while len(colors) < n:\n",
    "        color = np.random.randint(1,10)\n",
    "        if color not in colors:\n",
    "            colors.append(color)\n",
    "    return colors\n",
    "\n",
    "def create_combined_riddle(num_input_output_grids, num_rows = -1, num_cols = -1, min_num_colors = 2):\n",
    "        '''\n",
    "        combine both pixel removal and color change riddles\n",
    "        '''\n",
    "        input_grids = []\n",
    "        output_grids = []\n",
    "        params = {}\n",
    "        params['input'] = []\n",
    "        params['output'] = []\n",
    "        color_bg = 0\n",
    "        random_colors = get_n_random_colors(3)\n",
    "        color_fg = random_colors[0]\n",
    "        color_fg2 = random_colors[1]\n",
    "        color_to_remove = random_colors[2]\n",
    "\n",
    "        for i in range(num_input_output_grids):\n",
    "                error=True\n",
    "                while error:\n",
    "                        # set the parameters for the input and output grids\n",
    "                        x = np.random.randint(min_grid_size,31) if num_cols == -1 else num_cols\n",
    "                        y = np.random.randint(min_grid_size,31) if num_rows == -1 else num_rows\n",
    "                        # pick a random number of points proportional to the size of the grid\n",
    "                        points = np.random.randint(1, x*y/4)\n",
    "                        current_board, error = create_board(color_bg, color_fg, x, y, max(points, min_num_colors), color_fg2, max(points/2, min_num_colors), color_to_remove, True, True)\n",
    "                        input_grids.append(current_board)\n",
    "\n",
    "                # choose one of the corners to randomly change to the foreground color\n",
    "                corner = np.random.randint(0,4)\n",
    "                if corner == 0:\n",
    "                        input_grids[-1][0][0] = color_fg\n",
    "                        # make the adjacent pixel the color to change to random to choose which adjacent pixel to change to\n",
    "                        change_to = np.random.randint(0,2) # 0 = right or left, 1 = down or up\n",
    "                        if change_to == 0:\n",
    "                                input_grids[-1][0][1] = color_fg2\n",
    "                        else:\n",
    "                                input_grids[-1][1][0] = color_fg2\n",
    "                elif corner == 1:\n",
    "                        input_grids[-1][0][-1] = color_fg\n",
    "                        # make the adjacent pixel the color to change to random to choose which adjacent pixel to change to\n",
    "                        change_to = np.random.randint(0,2)\n",
    "                        if change_to == 0:\n",
    "                                input_grids[-1][0][-2] = color_fg2\n",
    "                        else:\n",
    "                                input_grids[-1][1][-1] = color_fg2\n",
    "                elif corner == 2:\n",
    "                        input_grids[-1][-1][0] = color_fg\n",
    "                        # make the adjacent pixel the color to change to random to choose which adjacent pixel to change to\n",
    "                        change_to = np.random.randint(0,2)\n",
    "                        if change_to == 0:\n",
    "                                input_grids[-1][-1][1] = color_fg2\n",
    "                        else:\n",
    "                                input_grids[-1][-2][0] = color_fg2\n",
    "                elif corner == 3:\n",
    "                        input_grids[-1][-1][-1] = color_fg\n",
    "                        # make the adjacent pixel the color to change to random to choose which adjacent pixel to change to\n",
    "                        change_to = np.random.randint(0,2)\n",
    "                        if change_to == 0:\n",
    "                                input_grids[-1][-1][-2] = color_fg2\n",
    "                        else:\n",
    "                                input_grids[-1][-2][-1] = color_fg2\n",
    "\n",
    "                # the output grid is the same but the points with the fg changed to fg2\n",
    "                output_grids.append(np.where(input_grids[-1] == color_fg, color_fg2, input_grids[-1]))\n",
    "\n",
    "                # now do the pixel removal. place color_fg in a corner\n",
    "                corner2 = np.random.randint(0,4)\n",
    "                while corner2 == corner:\n",
    "                        corner2 = np.random.randint(0,4)\n",
    "                if corner2 == 0:\n",
    "                        input_grids[-1][0][0] = color_to_remove\n",
    "                elif corner2 == 1:\n",
    "                        input_grids[-1][0][-1] = color_to_remove\n",
    "                elif corner2 == 2:\n",
    "                        input_grids[-1][-1][0] = color_to_remove\n",
    "                elif corner2 == 3:\n",
    "                        input_grids[-1][-1][-1] = color_to_remove\n",
    "\n",
    "                # remove the color from the output grid\n",
    "                output_grids[-1] = np.where(output_grids[-1] == color_to_remove, color_bg, output_grids[-1])\n",
    "\n",
    "                # append the parameters to the params object\n",
    "                params['input'].append({'color_bg': color_bg, 'color_fg': color_fg, 'points': points, 'x': x, 'y': y})\n",
    "                params['output'].append({'color_bg': color_bg, 'color_fg': color_fg, 'points': points, 'x': x, 'y': y})\n",
    "        return input_grids, output_grids, params"
   ]
  },
  {
   "cell_type": "code",
   "execution_count": 18,
   "metadata": {
    "scrolled": true
   },
   "outputs": [
    {
     "name": "stdout",
     "output_type": "stream",
     "text": [
      "Creating pixel_removal riddles...\n"
     ]
    },
    {
     "name": "stderr",
     "output_type": "stream",
     "text": [
      "100%|██████████| 50/50 [28:55<00:00, 34.72s/it]\n"
     ]
    },
    {
     "data": {
      "image/png": "[encoded data removed]",
      "text/plain": [
       "<Figure size 640x480 with 4 Axes>"
      ]
     },
     "metadata": {},
     "output_type": "display_data"
    },
    {
     "name": "stderr",
     "output_type": "stream",
     "text": [
      "  0%|          | 2/10000 [00:00<20:09,  8.26it/s]"
     ]
    },
    {
     "data": {
      "image/png": "[encoded data removed]",
      "text/plain": [
       "<Figure size 640x480 with 2 Axes>"
      ]
     },
     "metadata": {},
     "output_type": "display_data"
    },
    {
     "data": {
      "image/png": "[encoded data removed]",
      "text/plain": [
       "<Figure size 640x480 with 4 Axes>"
      ]
     },
     "metadata": {},
     "output_type": "display_data"
    },
    {
     "name": "stderr",
     "output_type": "stream",
     "text": [
      "  0%|          | 3/10000 [00:00<24:48,  6.71it/s]"
     ]
    },
    {
     "data": {
      "image/png": "[encoded data removed]",
      "text/plain": [
       "<Figure size 640x480 with 2 Axes>"
      ]
     },
     "metadata": {},
     "output_type": "display_data"
    },
    {
     "data": {
      "image/png": "[encoded data removed]",
      "text/plain": [
       "<Figure size 640x480 with 4 Axes>"
      ]
     },
     "metadata": {},
     "output_type": "display_data"
    },
    {
     "name": "stderr",
     "output_type": "stream",
     "text": [
      "100%|█████████▉| 9997/10000 [04:27<00:00, 43.21it/s]"
     ]
    },
    {
     "name": "stdout",
     "output_type": "stream",
     "text": [
      "Creating color_change riddles...\n"
     ]
    },
    {
     "name": "stderr",
     "output_type": "stream",
     "text": [
      "100%|██████████| 10000/10000 [04:27<00:00, 37.32it/s]\n"
     ]
    },
    {
     "data": {
      "image/png": "[encoded data removed]",
      "text/plain": [
       "<Figure size 640x480 with 2 Axes>"
      ]
     },
     "metadata": {},
     "output_type": "display_data"
    },
    {
     "data": {
      "image/png": "[encoded data removed]",
      "text/plain": [
       "<Figure size 640x480 with 4 Axes>"
      ]
     },
     "metadata": {},
     "output_type": "display_data"
    },
    {
     "name": "stderr",
     "output_type": "stream",
     "text": [
      "  0%|          | 2/10000 [00:00<28:07,  5.92it/s]"
     ]
    },
    {
     "data": {
      "image/png": "[encoded data removed]",
      "text/plain": [
       "<Figure size 640x480 with 2 Axes>"
      ]
     },
     "metadata": {},
     "output_type": "display_data"
    },
    {
     "data": {
      "image/png": "[encoded data removed]",
      "text/plain": [
       "<Figure size 640x480 with 4 Axes>"
      ]
     },
     "metadata": {},
     "output_type": "display_data"
    },
    {
     "name": "stderr",
     "output_type": "stream",
     "text": [
      "  0%|          | 3/10000 [00:00<31:36,  5.27it/s]"
     ]
    },
    {
     "data": {
      "image/png": "[encoded data removed]",
      "text/plain": [
       "<Figure size 640x480 with 2 Axes>"
      ]
     },
     "metadata": {},
     "output_type": "display_data"
    },
    {
     "data": {
      "image/png": "[encoded data removed]",
      "text/plain": [
       "<Figure size 640x480 with 4 Axes>"
      ]
     },
     "metadata": {},
     "output_type": "display_data"
    },
    {
     "name": "stderr",
     "output_type": "stream",
     "text": [
      "100%|█████████▉| 9998/10000 [05:46<00:00, 29.26it/s]"
     ]
    },
    {
     "name": "stdout",
     "output_type": "stream",
     "text": [
      "Creating combined_pr_cc riddles...\n"
     ]
    },
    {
     "name": "stderr",
     "output_type": "stream",
     "text": [
      "100%|██████████| 10000/10000 [05:47<00:00, 28.81it/s]\n"
     ]
    },
    {
     "data": {
      "image/png": "[encoded data removed]",
      "text/plain": [
       "<Figure size 640x480 with 2 Axes>"
      ]
     },
     "metadata": {},
     "output_type": "display_data"
    },
    {
     "data": {
      "image/png": "[encoded data removed]",
      "text/plain": [
       "<Figure size 640x480 with 4 Axes>"
      ]
     },
     "metadata": {},
     "output_type": "display_data"
    },
    {
     "name": "stderr",
     "output_type": "stream",
     "text": [
      "  0%|          | 2/10000 [00:00<22:17,  7.47it/s]"
     ]
    },
    {
     "data": {
      "image/png": "[encoded data removed]",
      "text/plain": [
       "<Figure size 640x480 with 2 Axes>"
      ]
     },
     "metadata": {},
     "output_type": "display_data"
    },
    {
     "data": {
      "image/png": "[encoded data removed]",
      "text/plain": [
       "<Figure size 640x480 with 4 Axes>"
      ]
     },
     "metadata": {},
     "output_type": "display_data"
    },
    {
     "name": "stderr",
     "output_type": "stream",
     "text": [
      "  0%|          | 3/10000 [00:00<29:02,  5.74it/s]"
     ]
    },
    {
     "data": {
      "image/png": "[encoded data removed]",
      "text/plain": [
       "<Figure size 640x480 with 2 Axes>"
      ]
     },
     "metadata": {},
     "output_type": "display_data"
    },
    {
     "data": {
      "image/png": "[encoded data removed]",
      "text/plain": [
       "<Figure size 640x480 with 4 Axes>"
      ]
     },
     "metadata": {},
     "output_type": "display_data"
    },
    {
     "name": "stderr",
     "output_type": "stream",
     "text": [
      "100%|█████████▉| 9998/10000 [07:00<00:00, 23.38it/s]"
     ]
    },
    {
     "data": {
      "image/png": "[encoded data removed]",
      "text/plain": [
       "<Figure size 640x480 with 2 Axes>"
      ]
     },
     "metadata": {},
     "output_type": "display_data"
    },
    {
     "name": "stderr",
     "output_type": "stream",
     "text": [
      "100%|██████████| 10000/10000 [07:10<00:00, 23.38it/s]"
     ]
    }
   ],
   "source": [
    "# import library for a progress indicator\n",
    "from tqdm import tqdm\n",
    "\n",
    "riddle_creation_functions = [create_pixel_removal_riddle, create_color_change_riddle, create_combined_riddle]\n",
    "#riddle_creation_functions = [create_combined_riddle]\n",
    "\n",
    "riddle_labels = [\"pixel_removal\", \"color_change\", \"combined_pr_cc\"]\n",
    "#riddle_labels = [\"combined_pr_cc\"]\n",
    "if all_items_same_grid_size:\n",
    "    rows = np.random.randint(min_grid_size,31) if grid_size_height == -1 else grid_size_height\n",
    "    cols = np.random.randint(min_grid_size,31) if grid_size_width == -1 else grid_size_width\n",
    "else:\n",
    "    rows = -1\n",
    "    cols = -1\n",
    "\n",
    "for i in range(len(riddle_creation_functions)):\n",
    "    riddle_creation_function= riddle_creation_functions[i]\n",
    "    plot_count = 0\n",
    "    print(f\"Creating {riddle_labels[i]} riddles...\")\n",
    "    # init progress bar\n",
    "    pbar = tqdm(total=dataset_size, position=0)\n",
    "\n",
    "    for c in range(dataset_size):\n",
    "        number_test_items = np.random.randint(3,7) if meta_trn_size==0 else meta_trn_size+1\n",
    "        input_grids, output_grids, params = riddle_creation_function(number_test_items, rows, cols, min_num_colors_per_task)\n",
    "        pbar.update(1)\n",
    "\n",
    "        # set the train and test data; train is all but the last item, test is the last item\n",
    "        train_input_grids = input_grids[:-1]\n",
    "        train_output_grids = output_grids[:-1]\n",
    "        test_input_grids = input_grids[-1:]\n",
    "        test_output_grids = output_grids[-1:]\n",
    "\n",
    "        json_obj = {}\n",
    "        json_obj['train'] = []\n",
    "        json_obj['test'] = []\n",
    "        # train\n",
    "        for io_pair in range(len(train_input_grids)):\n",
    "            a = {\n",
    "                'input': train_input_grids[io_pair].tolist(),\n",
    "                'output': train_output_grids[io_pair].tolist()\n",
    "            }\n",
    "            json_obj['train'].append(a)\n",
    "\n",
    "        a = {'input': test_input_grids[0].tolist(),\n",
    "                'output': test_output_grids[0].tolist()    }\n",
    "        json_obj['test'].append(a)\n",
    "        if not os.path.exists(dataset_folder):\n",
    "            os.makedirs(dataset_folder)\n",
    "        output_folder = os.path.join(dataset_folder, riddle_labels[i])\n",
    "        # verify folder exists ./dungeon_dataset/\n",
    "        if not os.path.exists(output_folder):\n",
    "            os.makedirs(output_folder)\n",
    "        #make a new filename that is 8 characters long and represents a random hex number\n",
    "        # characters betwee 0-9 and a-f\n",
    "        string = '0123456789abcdef'\n",
    "        filename = ''.join(random.choice(string) for t in range(8)) + '.json'\n",
    "        # write the json object to a file\n",
    "        with open(os.path.join(output_folder, filename), 'w') as outfile:\n",
    "            json.dump(json_obj, outfile)\n",
    "\n",
    "        # plot the grids next to each other input in the first row and output in the second row\n",
    "        if plot_count < plot_items:\n",
    "            fig, axs = plt.subplots(2, len(train_input_grids))\n",
    "            title = f\"train input\"\n",
    "            axs[0][0].set_title(title)\n",
    "            title2 = f\"train output\"\n",
    "            axs[1][0].set_title(title2)\n",
    "            for r in range(len(train_input_grids)):\n",
    "                axs[0][r].axis('off')\n",
    "                axs[1][r].axis('off')\n",
    "                axs[0][r].imshow(train_input_grids[r], cmap=cmap_values, norm=norm, origin='lower')\n",
    "                axs[1][r].imshow(train_output_grids[r], cmap=cmap_values, norm=norm, origin='lower')\n",
    "            plt.show()\n",
    "            # plot test items\n",
    "            fig, axs = plt.subplots(2, 1)\n",
    "            title = f\"test input\"\n",
    "            axs[0].set_title(title)\n",
    "            axs[0].axis('off')\n",
    "            title2 = f\"test output\"\n",
    "            axs[1].set_title(title2)\n",
    "            axs[1].axis('off')\n",
    "            axs[0].imshow(test_input_grids[0], label=\"test input\", cmap=cmap_values, norm=norm, origin='lower')\n",
    "            axs[1].imshow(test_output_grids[0], label=\"test output\", cmap=cmap_values, norm=norm, origin='lower')\n",
    "            plot_count += 1\n",
    "\n",
    "    # dataset generated"
   ]
  }
 ],
 "metadata": {
  "kernelspec": {
   "display_name": "Python 3.9.13 ('ml')",
   "language": "python",
   "name": "python3"
  },
  "language_info": {
   "codemirror_mode": {
    "name": "ipython",
    "version": 3
   },
   "file_extension": ".py",
   "mimetype": "text/x-python",
   "name": "python",
   "nbconvert_exporter": "python",
   "pygments_lexer": "ipython3",
   "version": "3.9.13"
  },
  "vscode": {
   "interpreter": {
    "hash": "c58e9361bde7ca617934da376e83056db506761bdc9593ca2087fabac973f609"
   }
  }
 },
 "nbformat": 4,
 "nbformat_minor": 2
}
